{
 "cells": [
  {
   "cell_type": "code",
   "execution_count": 36,
   "metadata": {},
   "outputs": [],
   "source": [
    "import matplotlib.pyplot as plt"
   ]
  },
  {
   "cell_type": "code",
   "execution_count": 39,
   "metadata": {},
   "outputs": [],
   "source": [
    "def plot(points, path):\n",
    "    x = []\n",
    "    y = []\n",
    "    \n",
    "    plt.figure(figsize = (12, 12))\n",
    "    \n",
    "    #Plotting points\n",
    "    for point in list(points):\n",
    "        x.append(point[0])\n",
    "        y.append(point[1])    \n",
    "    plt.plot(x, y, 'co')\n",
    "        \n",
    "    #Plotting the lengths except last one    \n",
    "    for arrow in range(1, len(path)):\n",
    "        i = path[arrow - 1]\n",
    "        j = path[arrow]\n",
    "        plt.arrow(x[i], y[i], x[j] - x[i], y[j] - y[i], color = 'r', length_includes_head = True)\n",
    "        \n",
    "    #Plotting the last length        \n",
    "    i = path[-1] #last point index\n",
    "    j = path[0]\n",
    "    plt.arrow(x[i], y[i], x[j] - x[i], y[j] - y[i], color = 'b', length_includes_head = True)\n",
    "    \n",
    "    zoom_factor = 0.01\n",
    "    plt.xlim(min(x) - zoom_factor, max(x) + zoom_factor)\n",
    "    plt.ylim(min(y) - zoom_factor, max(y) + zoom_factor)\n",
    "    plt.title(\"Best Path by ACO\")\n",
    "    plt.xlabel(\"Longitude\")\n",
    "    plt.ylabel(\"Latitude\")\n",
    "    plt.show()"
   ]
  }
 ],
 "metadata": {
  "kernelspec": {
   "display_name": "Python 3",
   "language": "python",
   "name": "python3"
  },
  "language_info": {
   "codemirror_mode": {
    "name": "ipython",
    "version": 3
   },
   "file_extension": ".py",
   "mimetype": "text/x-python",
   "name": "python",
   "nbconvert_exporter": "python",
   "pygments_lexer": "ipython3",
   "version": "3.8.3"
  }
 },
 "nbformat": 4,
 "nbformat_minor": 4
}
